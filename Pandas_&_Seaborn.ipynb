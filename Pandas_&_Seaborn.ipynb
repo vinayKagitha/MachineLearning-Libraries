{
  "nbformat": 4,
  "nbformat_minor": 0,
  "metadata": {
    "colab": {
      "provenance": []
    },
    "kernelspec": {
      "name": "python3",
      "display_name": "Python 3"
    },
    "language_info": {
      "name": "python"
    }
  },
  "cells": [
    {
      "cell_type": "code",
      "execution_count": null,
      "metadata": {
        "colab": {
          "base_uri": "https://localhost:8080/"
        },
        "id": "7B3l79OYnKNO",
        "outputId": "99bc324d-1c33-4547-bb99-2306d7ca7a5d"
      },
      "outputs": [
        {
          "output_type": "execute_result",
          "data": {
            "text/plain": [
              "21"
            ]
          },
          "metadata": {},
          "execution_count": 6
        }
      ],
      "source": [
        "\n",
        "#generate random numbers\n",
        "import numpy as np\n",
        "x=np.random.randint(100)\n",
        "x\n"
      ]
    },
    {
      "cell_type": "code",
      "source": [
        "y=np.random.rand()\n",
        "y"
      ],
      "metadata": {
        "colab": {
          "base_uri": "https://localhost:8080/"
        },
        "id": "FMUHUu8xo3Fm",
        "outputId": "d2ead303-5ba1-4765-bf20-c283a003cebc"
      },
      "execution_count": null,
      "outputs": [
        {
          "output_type": "execute_result",
          "data": {
            "text/plain": [
              "0.5265426147244213"
            ]
          },
          "metadata": {},
          "execution_count": 7
        }
      ]
    },
    {
      "cell_type": "code",
      "source": [
        "y=np.random.randint(10, size=100)\n",
        "y"
      ],
      "metadata": {
        "colab": {
          "base_uri": "https://localhost:8080/"
        },
        "id": "VN_yxEOaoJZW",
        "outputId": "04975ce4-7e7f-4c4f-f59f-ec3749751850"
      },
      "execution_count": null,
      "outputs": [
        {
          "output_type": "execute_result",
          "data": {
            "text/plain": [
              "array([1, 3, 6, 3, 3, 6, 9, 4, 6, 4, 7, 8, 8, 4, 6, 0, 5, 1, 5, 4, 3, 9,\n",
              "       4, 3, 9, 5, 7, 0, 7, 9, 8, 3, 6, 0, 0, 5, 6, 2, 2, 1, 2, 5, 0, 3,\n",
              "       3, 2, 6, 9, 0, 1, 3, 4, 1, 7, 7, 1, 7, 0, 3, 0, 5, 1, 7, 3, 4, 0,\n",
              "       9, 1, 3, 7, 1, 9, 6, 7, 2, 0, 1, 7, 3, 5, 4, 2, 4, 5, 4, 2, 1, 4,\n",
              "       0, 3, 8, 7, 0, 7, 2, 4, 9, 0, 8, 6])"
            ]
          },
          "metadata": {},
          "execution_count": 8
        }
      ]
    },
    {
      "cell_type": "code",
      "source": [
        "y=np.random.rand(100)\n",
        "y"
      ],
      "metadata": {
        "colab": {
          "base_uri": "https://localhost:8080/"
        },
        "id": "MCbkY6E3o7_z",
        "outputId": "386a1c8e-59fc-421b-e47b-3e87c11bbef7"
      },
      "execution_count": null,
      "outputs": [
        {
          "output_type": "execute_result",
          "data": {
            "text/plain": [
              "array([0.86680988, 0.71412854, 0.95582988, 0.74170823, 0.15536464,\n",
              "       0.93282501, 0.95573909, 0.57585294, 0.41686012, 0.09553037,\n",
              "       0.33846508, 0.99980877, 0.82858254, 0.62316787, 0.83246894,\n",
              "       0.39360028, 0.78924798, 0.63540551, 0.34299837, 0.09048114,\n",
              "       0.17738735, 0.42841004, 0.77895616, 0.73407635, 0.61526656,\n",
              "       0.30317976, 0.5797185 , 0.64932366, 0.14800855, 0.5024939 ,\n",
              "       0.49974552, 0.10021336, 0.03691429, 0.78874244, 0.87923305,\n",
              "       0.0537961 , 0.4260465 , 0.90908412, 0.30534577, 0.50500094,\n",
              "       0.95177036, 0.71889593, 0.26026738, 0.45433251, 0.95676448,\n",
              "       0.90630168, 0.73031733, 0.22420068, 0.72290439, 0.72872073,\n",
              "       0.10423643, 0.43235385, 0.68453614, 0.69378555, 0.43926424,\n",
              "       0.89463823, 0.86956865, 0.47616859, 0.0720431 , 0.1873113 ,\n",
              "       0.96164582, 0.71119851, 0.89035211, 0.77043938, 0.99680103,\n",
              "       0.7390963 , 0.50509422, 0.82140652, 0.57412469, 0.63413635,\n",
              "       0.19054051, 0.16209921, 0.55650127, 0.1816637 , 0.11446408,\n",
              "       0.22024796, 0.64340572, 0.64972383, 0.50965024, 0.96249188,\n",
              "       0.47814998, 0.87438171, 0.44728413, 0.72140893, 0.83946788,\n",
              "       0.06473969, 0.90039362, 0.91055465, 0.90548131, 0.15653404,\n",
              "       0.95305873, 0.46912824, 0.93586033, 0.32770247, 0.83684737,\n",
              "       0.27430159, 0.33352706, 0.75011099, 0.31332632, 0.08863445])"
            ]
          },
          "metadata": {},
          "execution_count": 9
        }
      ]
    },
    {
      "cell_type": "code",
      "source": [
        "#printing 2d data using random\n",
        "k=np.random.randint(10,size=(2,3))\n",
        "k"
      ],
      "metadata": {
        "colab": {
          "base_uri": "https://localhost:8080/"
        },
        "id": "KEldJQCEpHoe",
        "outputId": "cc8a0f19-aad1-4dac-cd9d-8219600bca9d"
      },
      "execution_count": null,
      "outputs": [
        {
          "output_type": "execute_result",
          "data": {
            "text/plain": [
              "array([[2, 6, 2],\n",
              "       [4, 7, 9]])"
            ]
          },
          "metadata": {},
          "execution_count": 13
        }
      ]
    },
    {
      "cell_type": "code",
      "source": [
        "n=np.random.rand(2,3)\n",
        "n"
      ],
      "metadata": {
        "colab": {
          "base_uri": "https://localhost:8080/"
        },
        "id": "Lmg5CKMLpcGF",
        "outputId": "df130acb-0deb-4d92-d503-273f79307338"
      },
      "execution_count": null,
      "outputs": [
        {
          "output_type": "execute_result",
          "data": {
            "text/plain": [
              "array([[0.72765016, 0.24177801, 0.35247636],\n",
              "       [0.90048536, 0.94931062, 0.924357  ]])"
            ]
          },
          "metadata": {},
          "execution_count": 12
        }
      ]
    },
    {
      "cell_type": "code",
      "source": [
        "#shuffle- changs the original data\n",
        "#permutation - creates a copy and  return it\n",
        "k=np.random.randint(10,size=10)\n",
        "print(k)\n",
        "np.random.shuffle(k)\n",
        "print(k)\n",
        "m=np.random.permutation(k)\n",
        "print(k)\n",
        "print(m)"
      ],
      "metadata": {
        "colab": {
          "base_uri": "https://localhost:8080/"
        },
        "id": "q49xp30Ppx6x",
        "outputId": "1af9f97b-9587-4b82-a3ed-ebf06de26b13"
      },
      "execution_count": null,
      "outputs": [
        {
          "output_type": "stream",
          "name": "stdout",
          "text": [
            "[4 4 2 8 2 3 2 7 2 6]\n",
            "[6 2 2 8 3 4 4 7 2 2]\n",
            "[6 2 2 8 3 4 4 7 2 2]\n",
            "[6 3 2 4 2 2 7 4 8 2]\n"
          ]
        }
      ]
    },
    {
      "cell_type": "code",
      "source": [
        "np.random.choice(k)\n"
      ],
      "metadata": {
        "colab": {
          "base_uri": "https://localhost:8080/"
        },
        "id": "zVTz8PThqe8H",
        "outputId": "1f2fbfd8-7a41-43e6-d181-60b7b8df827e"
      },
      "execution_count": null,
      "outputs": [
        {
          "output_type": "execute_result",
          "data": {
            "text/plain": [
              "8"
            ]
          },
          "metadata": {},
          "execution_count": 17
        }
      ]
    },
    {
      "cell_type": "code",
      "source": [
        "np.random.choice(k,size=10)"
      ],
      "metadata": {
        "colab": {
          "base_uri": "https://localhost:8080/"
        },
        "id": "y8a8NwCmrLeX",
        "outputId": "472312aa-9cc5-4f5f-e045-2bb87edb9920"
      },
      "execution_count": null,
      "outputs": [
        {
          "output_type": "execute_result",
          "data": {
            "text/plain": [
              "array([4, 2, 7, 2, 4, 4, 2, 4, 2, 2])"
            ]
          },
          "metadata": {},
          "execution_count": 19
        }
      ]
    },
    {
      "cell_type": "code",
      "source": [
        "np.random.choice([1,2,3,4,55],p=[0.1,0.2,0.4,0.15,0.15],size=10)"
      ],
      "metadata": {
        "colab": {
          "base_uri": "https://localhost:8080/"
        },
        "id": "YT3nRf4erYKL",
        "outputId": "2275a564-1381-4d54-833d-54d46c43f6a7"
      },
      "execution_count": null,
      "outputs": [
        {
          "output_type": "execute_result",
          "data": {
            "text/plain": [
              "array([ 3, 55,  3,  4,  1, 55,  3,  3,  3,  2])"
            ]
          },
          "metadata": {},
          "execution_count": 22
        }
      ]
    },
    {
      "cell_type": "code",
      "source": [
        "#normal distribution BY DEFUALT MEAN = 0 & sd=1\n",
        "np.random.normal()"
      ],
      "metadata": {
        "colab": {
          "base_uri": "https://localhost:8080/"
        },
        "id": "LJdlQwl7sK5J",
        "outputId": "30ef951f-e486-436c-d971-e6ba02116ba1"
      },
      "execution_count": null,
      "outputs": [
        {
          "output_type": "execute_result",
          "data": {
            "text/plain": [
              "-0.2886792123483173"
            ]
          },
          "metadata": {},
          "execution_count": 24
        }
      ]
    },
    {
      "cell_type": "code",
      "source": [
        "#loc=mean, scale=sd\n",
        "np.random.normal(loc=5,scale=7)"
      ],
      "metadata": {
        "colab": {
          "base_uri": "https://localhost:8080/"
        },
        "id": "xaRXfM33tZLu",
        "outputId": "fd21bda2-da4d-4bdc-9c02-ee9124843b46"
      },
      "execution_count": null,
      "outputs": [
        {
          "output_type": "execute_result",
          "data": {
            "text/plain": [
              "7.383451968295475"
            ]
          },
          "metadata": {},
          "execution_count": 25
        }
      ]
    },
    {
      "cell_type": "code",
      "source": [
        "x=np.random.normal(loc=5,scale=7,size=100)\n",
        "x"
      ],
      "metadata": {
        "colab": {
          "base_uri": "https://localhost:8080/"
        },
        "id": "QPB2kF2ituF6",
        "outputId": "abca70c0-c7eb-4693-ae2b-2f4327a23d98"
      },
      "execution_count": null,
      "outputs": [
        {
          "output_type": "execute_result",
          "data": {
            "text/plain": [
              "array([  8.62497912,   3.39699553,   7.40756031,  10.45891363,\n",
              "         8.08860039,  -3.55232013,   5.79454177,  12.74511981,\n",
              "         8.73146102,  11.16253566,  11.93739762,   4.67933337,\n",
              "        -0.20508847,   5.46630581,  -0.66654701,   7.27013136,\n",
              "        22.69516859,   2.4641827 ,   5.98636094,   2.5826961 ,\n",
              "        11.90815227,  -0.88370404,   6.84443821,  -4.91939248,\n",
              "         3.80005842,  -3.31862041,  10.41274427,   5.90520733,\n",
              "         6.3734783 ,  14.75863234,  17.01714617,   4.19423553,\n",
              "        14.11905744,   2.56249336,   4.53595957,  -6.69855634,\n",
              "        -3.79536765,   2.1154623 ,   6.9654327 ,   8.44836607,\n",
              "        13.18210746,   3.72047212,   8.37398996,   5.70783786,\n",
              "        -2.16693006,  11.4548642 ,  11.25948316,  -1.43893385,\n",
              "         5.42297831,  11.2621255 ,   9.61931834, -10.0189364 ,\n",
              "        11.87431981,   2.0360429 ,  11.9556482 ,   6.44406307,\n",
              "         4.23792865,   0.42546019,   3.35006927,   5.03442331,\n",
              "        16.53489361,   4.37521196,  -0.93192673,   8.20655185,\n",
              "         9.88878075,   7.32465221,   5.6303355 ,  -5.51946578,\n",
              "        -0.95645717,  -3.982792  ,   8.42045085,  -7.72089534,\n",
              "        10.35548011,   7.37277114,  -2.95531163,  -5.2788434 ,\n",
              "        19.90914686,   6.78294098,   5.45351944,  -4.89941809,\n",
              "         4.05243556,  12.75619039,   0.43004095,  10.56172831,\n",
              "         0.57981559,  -2.97544648,   3.41219602,   4.54442207,\n",
              "        -3.37546212,   4.88353034,  12.59484703,   0.39868654,\n",
              "         6.57224238,   1.36847543,   1.82560673,   6.35470344,\n",
              "        18.34445119,  21.98449848,  -2.83079835,   0.37114713])"
            ]
          },
          "metadata": {},
          "execution_count": 32
        }
      ]
    },
    {
      "cell_type": "code",
      "source": [
        "#seaborn\n",
        "import seaborn as sns\n",
        "sns.displot(x)"
      ],
      "metadata": {
        "colab": {
          "base_uri": "https://localhost:8080/",
          "height": 524
        },
        "id": "WFg6Tfu8t1_7",
        "outputId": "e4114433-96c7-4d07-a3cd-b7b8b9ba5ac3"
      },
      "execution_count": null,
      "outputs": [
        {
          "output_type": "execute_result",
          "data": {
            "text/plain": [
              "<seaborn.axisgrid.FacetGrid at 0x7fbbe2e80040>"
            ]
          },
          "metadata": {},
          "execution_count": 34
        },
        {
          "output_type": "display_data",
          "data": {
            "text/plain": [
              "<Figure size 500x500 with 1 Axes>"
            ],
            "image/png": "[encoded data removed]"
          },
          "metadata": {}
        }
      ]
    },
    {
      "cell_type": "code",
      "source": [
        "sns.displot(x,bins=10,kde='line')"
      ],
      "metadata": {
        "colab": {
          "base_uri": "https://localhost:8080/",
          "height": 523
        },
        "id": "bfpFiycBuwNt",
        "outputId": "8772da8c-3f41-4a3e-d117-3bfedfe15e0c"
      },
      "execution_count": null,
      "outputs": [
        {
          "output_type": "execute_result",
          "data": {
            "text/plain": [
              "<seaborn.axisgrid.FacetGrid at 0x7fbbeb082e00>"
            ]
          },
          "metadata": {},
          "execution_count": 37
        },
        {
          "output_type": "display_data",
          "data": {
            "text/plain": [
              "<Figure size 500x500 with 1 Axes>"
            ],
            "image/png": "[encoded data removed]"
          },
          "metadata": {}
        }
      ]
    },
    {
      "cell_type": "code",
      "source": [
        "sns.displot(x,kind='kde')"
      ],
      "metadata": {
        "colab": {
          "base_uri": "https://localhost:8080/",
          "height": 523
        },
        "id": "aR33zbExvg5J",
        "outputId": "ccfb04d1-ced7-4f4d-9001-9187ac5805d3"
      },
      "execution_count": null,
      "outputs": [
        {
          "output_type": "execute_result",
          "data": {
            "text/plain": [
              "<seaborn.axisgrid.FacetGrid at 0x7fbbe45fd630>"
            ]
          },
          "metadata": {},
          "execution_count": 40
        },
        {
          "output_type": "display_data",
          "data": {
            "text/plain": [
              "<Figure size 500x500 with 1 Axes>"
            ],
            "image/png": "[encoded data removed]"
          },
          "metadata": {}
        }
      ]
    },
    {
      "cell_type": "code",
      "source": [
        "hrs=np.random.randint(40,size=100)\n",
        "hrs"
      ],
      "metadata": {
        "colab": {
          "base_uri": "https://localhost:8080/"
        },
        "id": "3bN9fr1Evo-q",
        "outputId": "641231d6-a28c-494b-e4fd-69f686936e35"
      },
      "execution_count": null,
      "outputs": [
        {
          "output_type": "execute_result",
          "data": {
            "text/plain": [
              "array([23, 34, 33, 16, 34, 36, 25, 10, 20, 35, 34, 24, 33, 33,  8, 33,  3,\n",
              "       10, 33,  1, 18,  1, 36, 26,  9, 37, 26, 18, 19, 10, 19, 11, 12, 17,\n",
              "        3, 39, 31, 31, 26,  1, 24, 24, 19, 23,  9, 29, 21, 17, 38, 30, 37,\n",
              "       16, 13,  9, 35, 27, 11, 18, 19, 35,  1, 25,  3, 39, 28, 38,  5, 27,\n",
              "       34,  5, 22, 22,  8, 10, 31, 18,  1,  1,  8, 38, 37, 14,  0, 13,  5,\n",
              "       28, 22, 11, 25,  8,  7, 39, 23, 24, 39, 13, 19, 26, 39, 36])"
            ]
          },
          "metadata": {},
          "execution_count": 44
        }
      ]
    },
    {
      "cell_type": "code",
      "source": [
        "y=np.random.choice([0,1],p=[0.3,0.7],size=100)\n",
        "y"
      ],
      "metadata": {
        "colab": {
          "base_uri": "https://localhost:8080/"
        },
        "id": "I_WS5IzfwlMO",
        "outputId": "0b6a3af8-1c1f-41fc-ed85-56ffa9c8f095"
      },
      "execution_count": null,
      "outputs": [
        {
          "output_type": "execute_result",
          "data": {
            "text/plain": [
              "array([1, 1, 0, 0, 1, 1, 1, 0, 1, 1, 1, 1, 1, 1, 1, 1, 1, 1, 0, 1, 0, 0,\n",
              "       1, 1, 1, 1, 0, 1, 0, 1, 1, 0, 0, 1, 0, 1, 0, 1, 0, 1, 1, 1, 1, 1,\n",
              "       1, 1, 0, 1, 1, 1, 1, 1, 1, 0, 1, 1, 1, 0, 0, 0, 0, 1, 1, 1, 1, 1,\n",
              "       0, 0, 0, 1, 1, 0, 1, 1, 1, 1, 1, 1, 1, 1, 1, 1, 1, 0, 0, 1, 1, 1,\n",
              "       0, 1, 0, 1, 1, 1, 1, 1, 1, 1, 1, 1])"
            ]
          },
          "metadata": {},
          "execution_count": 48
        }
      ]
    },
    {
      "cell_type": "code",
      "source": [
        "sns.displot((hrs,y))"
      ],
      "metadata": {
        "colab": {
          "base_uri": "https://localhost:8080/",
          "height": 524
        },
        "id": "fSzKNE5xxTse",
        "outputId": "052b720b-be01-48b4-bb69-74a851f68247"
      },
      "execution_count": null,
      "outputs": [
        {
          "output_type": "execute_result",
          "data": {
            "text/plain": [
              "<seaborn.axisgrid.FacetGrid at 0x7fbbeab9a530>"
            ]
          },
          "metadata": {},
          "execution_count": 49
        },
        {
          "output_type": "display_data",
          "data": {
            "text/plain": [
              "<Figure size 558.875x500 with 1 Axes>"
            ],
            "image/png": "[encoded data removed]"
          },
          "metadata": {}
        }
      ]
    },
    {
      "cell_type": "code",
      "source": [
        "sns.displot(hrs)"
      ],
      "metadata": {
        "colab": {
          "base_uri": "https://localhost:8080/",
          "height": 523
        },
        "id": "1hisgDFJxnC9",
        "outputId": "38103b6b-bfc1-4177-b878-c51319ee3d9b"
      },
      "execution_count": null,
      "outputs": [
        {
          "output_type": "execute_result",
          "data": {
            "text/plain": [
              "<seaborn.axisgrid.FacetGrid at 0x7fbbe4773b20>"
            ]
          },
          "metadata": {},
          "execution_count": 50
        },
        {
          "output_type": "display_data",
          "data": {
            "text/plain": [
              "<Figure size 500x500 with 1 Axes>"
            ],
            "image/png": "[encoded data removed]"
          },
          "metadata": {}
        }
      ]
    },
    {
      "cell_type": "code",
      "source": [
        "#Binomial distribution no of times(n), p, size\n",
        "np.random.binomial(n=10,p=.5,size=10)"
      ],
      "metadata": {
        "colab": {
          "base_uri": "https://localhost:8080/"
        },
        "id": "FLGoOM4cy3Do",
        "outputId": "067959b6-2b35-4d88-b573-46419f8e02b6"
      },
      "execution_count": null,
      "outputs": [
        {
          "output_type": "execute_result",
          "data": {
            "text/plain": [
              "array([7, 6, 7, 8, 9, 4, 4, 7, 6, 2])"
            ]
          },
          "metadata": {},
          "execution_count": 52
        }
      ]
    },
    {
      "cell_type": "code",
      "source": [
        "#poison distribution\n",
        "np.random.poisson(lam=5,size=10)"
      ],
      "metadata": {
        "colab": {
          "base_uri": "https://localhost:8080/"
        },
        "id": "hAsuTsjizzdm",
        "outputId": "88c5c2ef-2041-4e8b-a764-3f8a3e215dba"
      },
      "execution_count": null,
      "outputs": [
        {
          "output_type": "execute_result",
          "data": {
            "text/plain": [
              "array([7, 1, 3, 8, 3, 5, 2, 4, 3, 3])"
            ]
          },
          "metadata": {},
          "execution_count": 55
        }
      ]
    },
    {
      "cell_type": "code",
      "source": [
        "#uniform distribution\n",
        "np.random.uniform(1,6,size=100)\n",
        "sns.displot(np.random.uniform(1,6,size=100),kind='kde')"
      ],
      "metadata": {
        "colab": {
          "base_uri": "https://localhost:8080/",
          "height": 524
        },
        "id": "aGBnZJLr0bTb",
        "outputId": "f0b47e23-be8e-4830-a6c9-788bb31a99df"
      },
      "execution_count": null,
      "outputs": [
        {
          "output_type": "execute_result",
          "data": {
            "text/plain": [
              "<seaborn.axisgrid.FacetGrid at 0x7fbbe08163e0>"
            ]
          },
          "metadata": {},
          "execution_count": 60
        },
        {
          "output_type": "display_data",
          "data": {
            "text/plain": [
              "<Figure size 500x500 with 1 Axes>"
            ],
            "image/png": "[encoded data removed]"
          },
          "metadata": {}
        }
      ]
    },
    {
      "cell_type": "code",
      "source": [
        "k=np.random.normal(loc=75,scale=10,size=1000)\n",
        "k"
      ],
      "metadata": {
        "colab": {
          "base_uri": "https://localhost:8080/"
        },
        "id": "V0Qc961H1xan",
        "outputId": "b9cc30d3-6671-4fbc-d1c4-5ad1d5d532b0"
      },
      "execution_count": null,
      "outputs": [
        {
          "output_type": "execute_result",
          "data": {
            "text/plain": [
              "array([ 69.31455206,  87.70133744,  65.92310141,  85.73718313,\n",
              "        90.55372336,  70.08054318,  90.14258924,  53.08559786,\n",
              "        79.77975872,  52.24775094,  87.61757076,  59.25313123,\n",
              "        77.07446328,  73.73602173,  70.61627214,  81.58625779,\n",
              "        71.61285312,  81.05126153,  69.32456565,  73.82540146,\n",
              "        78.97056616,  71.81325226,  66.12965535,  72.65421896,\n",
              "        78.21554173,  73.47534128,  59.94443216,  74.21447623,\n",
              "        70.46290401,  69.2141059 ,  79.90453582,  87.21789314,\n",
              "        79.85488842,  68.97383689,  65.09693567,  95.57742308,\n",
              "        71.80750494,  69.64545434,  85.5534218 ,  69.97518664,\n",
              "        75.21097978,  88.1128043 ,  67.4873046 ,  61.80338989,\n",
              "        99.06856043,  63.98003397,  64.34876308,  61.7491574 ,\n",
              "        77.43443831,  67.02498668,  53.75958384,  69.31179894,\n",
              "        82.5356054 ,  62.4683934 ,  75.70873192,  79.14751358,\n",
              "        55.43785676,  91.64623187,  71.29203531,  71.0548728 ,\n",
              "        61.34562466,  79.15685341,  58.33726345,  78.07450412,\n",
              "        90.65956761,  79.94794054,  80.84699465,  79.59471   ,\n",
              "        75.38510398,  67.07595872,  73.22617432,  70.44662096,\n",
              "       100.94722462,  75.1920833 ,  75.22639915,  72.56854651,\n",
              "        64.83169165,  58.48100294,  76.90393568,  83.66518705,\n",
              "        79.52650864,  77.20962979,  77.57825525,  72.79776337,\n",
              "        64.46487991,  84.8251846 ,  65.48518573,  65.34403407,\n",
              "        71.10429442,  79.1500227 ,  70.9133805 ,  70.66695807,\n",
              "        64.02010486,  84.23559226,  84.04503988,  79.74810259,\n",
              "        62.15489281,  80.0794533 ,  81.17289261,  68.86732747,\n",
              "        87.45116381,  67.42481781,  93.68925803,  91.60305416,\n",
              "        74.31427161,  77.88869033,  61.70543966,  66.27427489,\n",
              "        71.70289772,  78.33118052,  65.94031809,  83.93184551,\n",
              "        78.40858749,  54.07653233,  77.36886351,  74.9986021 ,\n",
              "        81.76318069,  90.38444328,  73.88146392,  59.97172545,\n",
              "        80.12375283,  75.24887655,  85.30829785,  72.65861418,\n",
              "        70.72092521,  69.04524766,  88.24145378,  65.65672685,\n",
              "        84.60069891,  77.65083683,  80.77551499,  96.68066052,\n",
              "        70.72224953,  75.32377603,  66.9976491 ,  59.30655805,\n",
              "        80.26155326,  78.1804931 ,  65.35660762,  91.60639285,\n",
              "        98.30927329,  78.93016353,  70.8664106 ,  81.95472352,\n",
              "        76.8104541 ,  66.06311321,  76.41698923,  80.65395865,\n",
              "        61.86944204,  81.3032863 ,  94.07152298,  74.37143808,\n",
              "        73.56422598,  74.54753932,  72.71717948,  68.11560171,\n",
              "        78.63455065,  59.77395662,  77.44788383,  65.51713033,\n",
              "        84.41318511,  54.87442126,  63.43336055,  75.26279487,\n",
              "        91.78397274,  97.3472827 ,  63.53383142,  77.20811314,\n",
              "        79.09503082,  89.93998814,  84.77705603,  64.83206981,\n",
              "        85.09575036,  77.89152808,  79.43570644,  79.08197941,\n",
              "        85.02367422,  79.30075466,  60.41539409,  69.09386874,\n",
              "        79.71886249,  91.07439434,  83.30198723,  70.30337544,\n",
              "        71.70730952,  65.01600162,  98.52557112,  70.05308048,\n",
              "        71.57004836,  80.3000771 ,  73.86573678,  76.06410058,\n",
              "        72.26662944,  65.83377905,  68.4224449 ,  76.3168694 ,\n",
              "        52.74608394, 102.65062297,  79.25162894,  62.07633425,\n",
              "        64.67561265,  70.89856093,  72.06309752,  73.2801    ,\n",
              "        90.94943501,  72.25020265,  83.21859543,  68.05700304,\n",
              "        78.0677603 ,  79.10433692,  71.99248421,  71.84420974,\n",
              "        71.75426168,  78.47284938,  65.84168179,  66.5656967 ,\n",
              "        78.98749082,  66.00725385,  88.82368713,  77.59006527,\n",
              "        64.42697406,  68.78110285,  65.38084188,  85.22346692,\n",
              "        79.6288413 ,  80.43277595,  73.46592164,  76.06828904,\n",
              "        54.26016753,  57.4687417 ,  68.14785117,  80.04742269,\n",
              "        76.1465634 ,  69.43639582,  79.44298481,  54.175262  ,\n",
              "        76.61916803,  73.62729123,  68.53368993,  70.16836903,\n",
              "        75.52525264,  67.35996073,  63.3802907 ,  60.27196562,\n",
              "       106.59048408,  71.80791504,  58.74936625,  54.57064341,\n",
              "        82.05573745,  72.3146716 ,  72.51059313,  64.90207149,\n",
              "        75.91573665,  85.11440761,  72.47942813,  63.01440767,\n",
              "        67.40384236,  73.39635183, 107.98587325,  61.4421649 ,\n",
              "        64.48539258,  81.38889838,  67.79494201,  87.99996456,\n",
              "        57.95788004,  98.70167831,  64.29776987,  72.88666905,\n",
              "        79.77355225,  79.59296892,  63.3065583 ,  69.68995109,\n",
              "        77.83423317,  65.89537246,  80.34817218,  75.22585485,\n",
              "        78.92453476,  67.59286814,  50.43839845,  76.89035775,\n",
              "        63.33927393,  76.61039351,  66.25220596,  98.56540426,\n",
              "        56.81331277,  64.94144772,  61.45173162,  81.40962238,\n",
              "        81.97743257,  62.8412819 ,  66.60279858,  90.56825615,\n",
              "        76.65916031,  66.3156835 ,  65.7786348 ,  63.0353834 ,\n",
              "        63.96319519,  76.44948518,  79.23781555,  75.80660978,\n",
              "        67.52988825,  62.74942579,  70.41487884,  77.35353831,\n",
              "        65.51239835,  66.6687801 ,  73.87256179,  73.45878991,\n",
              "        78.7633184 ,  84.02593352,  80.71558655,  71.58880642,\n",
              "        54.01863101,  89.52052487,  74.07748485,  87.47218867,\n",
              "        86.09847485,  76.54702389,  72.12095402,  61.76609073,\n",
              "        90.2746895 ,  68.83083921,  62.64460464,  69.42674195,\n",
              "        71.74648221,  65.94944218,  74.64124054,  60.06122639,\n",
              "        78.91028898,  82.36352802,  84.88010341,  76.49162375,\n",
              "        68.28093115,  61.02672106,  88.30293058,  62.9474974 ,\n",
              "        70.62613215,  81.51706534,  63.29186733,  61.40590707,\n",
              "        78.41061541,  69.49629611,  69.19604297,  89.78944741,\n",
              "        72.97022416,  75.49542402,  59.44253388,  81.52307866,\n",
              "        62.52323623,  68.18795848,  69.97941629,  87.28698699,\n",
              "        83.94370354,  79.10564843,  55.71815241,  76.18230931,\n",
              "        71.23362868,  75.37954132,  63.93248135,  60.92815078,\n",
              "        83.50150111,  79.18996279,  74.57738044,  84.65177152,\n",
              "        72.51921626,  80.32678066,  71.01104942,  66.83949841,\n",
              "        76.91220673,  62.71738684,  79.04285008,  91.135709  ,\n",
              "        69.77514729,  70.09826718,  73.25904544,  75.24434159,\n",
              "        83.16717443,  62.96697643,  86.95566811,  82.49129038,\n",
              "        66.72049523,  67.33873553,  62.22516341,  62.90340491,\n",
              "        81.38576324,  75.46354545,  80.05646535,  72.40170908,\n",
              "        67.53024182,  86.84351464,  72.82771757,  80.6121382 ,\n",
              "        66.48890783,  52.79851418,  75.35566119,  91.43487612,\n",
              "        72.09381122,  64.94589296,  82.35439243,  75.99450793,\n",
              "        73.73429956,  82.11514745,  79.30952718,  80.77993088,\n",
              "        82.18111713,  90.98899923,  74.82200368,  68.27490802,\n",
              "        85.04515429,  67.45219901,  66.78180009,  62.20378076,\n",
              "        87.11442247,  55.48255908,  68.10939181,  80.62587453,\n",
              "        95.98544828,  76.7687208 ,  73.70207458,  84.9243887 ,\n",
              "        77.72275687,  69.73915347,  71.77665251,  72.81567103,\n",
              "        83.95075083,  73.80100146,  57.91487556,  77.52798937,\n",
              "        82.10137564,  76.81021367,  80.5017124 ,  66.02792621,\n",
              "        85.7860297 ,  86.66940246,  80.46689943,  80.51699869,\n",
              "        47.04904066,  72.44191334,  70.38072118,  72.89313921,\n",
              "        69.53596806,  73.45382022,  70.11829029,  79.16604164,\n",
              "        71.4894515 ,  78.50830074,  66.57746305,  76.92642892,\n",
              "       101.59831402,  70.20085042,  59.52732167,  77.0710203 ,\n",
              "        74.14633811,  88.3948429 ,  80.46849975,  83.294488  ,\n",
              "        74.67904194,  81.62921038,  76.36854059,  71.4537331 ,\n",
              "        86.59786828,  71.57908806,  66.34278908,  75.01737613,\n",
              "        70.4291223 ,  95.27999413,  69.56893282,  74.69800534,\n",
              "        76.28327405,  59.30233261,  77.84358113,  62.24408655,\n",
              "        89.57402258,  67.2655331 ,  58.17293501,  72.37615647,\n",
              "        77.56274476,  89.15942134,  68.05615996,  82.29100068,\n",
              "        74.2785248 ,  86.2577976 ,  68.16690908,  68.81360742,\n",
              "        70.80093002,  90.50966715,  81.05097548,  77.10206368,\n",
              "        78.54147406,  81.5725144 ,  81.52772142,  64.33335856,\n",
              "        73.11314788,  85.4591852 ,  81.28841071,  71.3348921 ,\n",
              "        74.67727943,  88.08569658,  73.39355167,  84.69638712,\n",
              "        83.43103562,  67.61917613,  77.81044516,  76.17914699,\n",
              "        75.212297  ,  84.98444548,  76.61034005,  69.87312594,\n",
              "        84.86646842,  67.12497829,  93.62392241,  75.74876266,\n",
              "        84.86341597,  79.39879856,  95.68881272,  64.02151657,\n",
              "        81.23501498,  70.70766941,  60.63157486,  64.67615671,\n",
              "        79.26982053,  62.64459511,  84.27730323,  80.69046312,\n",
              "        67.82264301,  79.99352126,  69.94993936,  77.4810504 ,\n",
              "        68.76723577,  68.64015221,  71.29873985,  65.3555538 ,\n",
              "        91.61252558,  68.54240936,  65.74254824,  77.57260233,\n",
              "        51.37523272,  78.54290007,  71.31243972,  67.18239598,\n",
              "        86.80516693,  74.6515457 ,  75.68307296,  80.77546202,\n",
              "        83.38581493,  66.15771172,  69.7631854 ,  67.10195392,\n",
              "        89.36656619,  81.04089836,  76.9627015 ,  81.96568064,\n",
              "        74.91170068,  85.11057767,  56.27506293,  84.64109382,\n",
              "        77.69304254,  78.37881093,  73.25127204,  72.2197987 ,\n",
              "        90.61861738,  85.96583304,  80.5844317 ,  68.1004    ,\n",
              "        83.14026688,  74.33847511,  67.58362259,  99.47282671,\n",
              "        79.01920714,  72.66087805,  77.3685831 ,  72.44867683,\n",
              "       104.43490192,  52.02218108,  63.32503601,  84.55273886,\n",
              "        80.85578552,  73.90214021,  78.61211641,  78.24909232,\n",
              "        59.10537756,  76.11583378,  72.50752845,  72.86801367,\n",
              "        58.47962064,  64.0801844 ,  74.49181463,  63.20563701,\n",
              "        59.40518065,  64.58390751,  78.15313691,  68.78636087,\n",
              "        84.30783563,  68.22003499,  71.66719174,  81.4352988 ,\n",
              "        72.73231353,  75.00992583,  78.58019907,  82.53234361,\n",
              "        76.94516998,  62.15284402,  61.80262486,  72.17069484,\n",
              "        72.84728753,  88.14434292,  77.35594758,  75.09051881,\n",
              "        64.72189537,  65.54991237,  80.19356229,  79.01626598,\n",
              "        85.84405858,  85.11858682,  73.87139511,  88.5376544 ,\n",
              "        80.31365789,  67.88978395,  70.61462338,  75.55176343,\n",
              "        86.96223544,  63.75726091,  64.29923882,  79.14716026,\n",
              "        74.98093118,  84.00171214,  77.37144338,  83.40679852,\n",
              "        67.53876471,  83.85873575,  69.32546022,  91.83757957,\n",
              "        72.95869935,  66.37088919,  52.4259071 ,  91.58058649,\n",
              "        77.82036912,  76.66190714,  63.32712276,  62.41538125,\n",
              "        80.78366589,  74.40575074,  79.18635197,  67.5382899 ,\n",
              "        80.51584936,  79.03130268,  69.64512958,  92.34080338,\n",
              "        67.32581606,  55.04050138,  77.54775187,  56.80098827,\n",
              "        74.62555226,  78.27847937,  77.75931786,  82.30054061,\n",
              "        61.0000253 ,  84.95812946,  71.31512954, 106.68311656,\n",
              "        74.2473034 ,  63.55742511,  59.37968503,  78.97114523,\n",
              "        67.98316359,  88.3798783 ,  66.15073815,  70.95674387,\n",
              "        61.06921952,  79.15008653,  89.92798757,  63.64625743,\n",
              "        69.71481392,  72.52330996,  85.93950455,  59.29838293,\n",
              "        67.84613362,  90.84451929,  78.48740365,  76.23088135,\n",
              "        70.34968406,  76.13438925,  71.27577304,  78.49814561,\n",
              "        84.43297122,  78.29637317,  64.78275067,  84.31502651,\n",
              "        61.76302022,  71.5361219 ,  80.81178564,  74.32063877,\n",
              "        75.09644168,  73.7795493 ,  81.93578822,  75.12546343,\n",
              "        75.3897899 ,  87.13467805,  73.35218801,  69.56666408,\n",
              "        71.99694973,  56.99142818,  74.78155253,  74.46042527,\n",
              "        79.35395603,  81.9836038 ,  82.41138243,  89.85110889,\n",
              "        51.95465172,  45.6859914 ,  84.15299526,  61.92518914,\n",
              "        92.43751378,  54.10780774,  75.33920295,  77.98151457,\n",
              "        82.07222475,  73.09024965,  74.02856347,  64.09601322,\n",
              "        79.65564577,  63.73095804,  95.70683341,  78.80527455,\n",
              "        67.52636934,  63.56289663,  82.67416367,  62.82522655,\n",
              "        82.22717839,  66.03953264,  88.58902965,  75.17768398,\n",
              "        73.46457232,  81.85665141,  63.47697106,  64.30775719,\n",
              "        73.49490663,  80.80742505,  69.70399356,  73.14693933,\n",
              "        74.27721474,  57.28112027,  77.3179615 ,  70.96021226,\n",
              "        77.30486189,  63.2563785 ,  66.60850425,  67.96176541,\n",
              "        81.82250502,  69.57668428,  62.71929839,  82.32095373,\n",
              "        60.51734579,  70.92269205,  80.61017631,  74.36518586,\n",
              "        93.68916703,  73.69107199,  79.57035135,  77.16712803,\n",
              "        71.74545152,  72.79115454,  87.58044699,  58.39748646,\n",
              "        64.09088962,  78.81042888,  92.02950025,  63.64731561,\n",
              "        59.91236307,  71.53081352,  65.47599894,  71.18959741,\n",
              "        77.08024749,  57.47030274,  70.96797622,  58.98514932,\n",
              "        71.49749669,  83.35538046,  66.77773041,  70.84783539,\n",
              "        62.63892992,  62.06592183,  88.46138267,  87.12270074,\n",
              "        78.57815504,  75.74511213,  69.55544771,  85.61176336,\n",
              "        65.72258696,  72.143862  ,  66.64658149,  86.02977229,\n",
              "        69.15486009,  72.31881535,  84.80800506,  82.56653006,\n",
              "        79.35076905,  67.9492601 ,  98.57963341,  87.80545637,\n",
              "        67.70174769,  79.51210833,  74.8654839 ,  81.02961543,\n",
              "        65.63048535,  64.0336446 ,  77.3737507 ,  92.77264939,\n",
              "        70.25825772,  70.50971537,  82.17506281,  70.99879671,\n",
              "        72.51520617,  74.62985767,  67.74479904,  75.85908947,\n",
              "        78.46893228,  64.52968196,  81.76414528,  81.80951989,\n",
              "        70.93786189,  72.37381925,  72.40356965,  65.65120494,\n",
              "        87.18688759,  57.31992618,  64.89949328,  58.33992171,\n",
              "        54.46330429,  86.72657283,  58.79609287,  75.12164874,\n",
              "        78.52700231,  77.68643779,  80.70560607,  78.54299319,\n",
              "        84.3250835 ,  67.46176601,  86.70463825,  82.98082862,\n",
              "        47.95050018,  85.7908141 ,  71.34473755,  56.44441768,\n",
              "        76.29392951,  56.05909509,  88.27600965,  74.07702519,\n",
              "        67.00046733,  81.32851086,  66.11205285,  73.00989313,\n",
              "        77.38203885,  84.12080731,  71.80634499,  88.76809291,\n",
              "        81.26530103,  84.78129631,  61.9841964 ,  78.60886181,\n",
              "        84.56970876,  94.83730992,  88.21687779,  74.78293823,\n",
              "        67.20058227,  60.41858669,  85.75110789,  74.00127724,\n",
              "        80.73453709,  62.98563097,  57.84620404,  59.25531175,\n",
              "        76.83622979,  56.39243731,  66.00291633,  74.03842826,\n",
              "        68.54212239,  82.35380958,  84.72558782,  70.17623846,\n",
              "        69.49452502,  62.59755059,  67.14723239,  88.33057481,\n",
              "        64.5909745 ,  68.59254227,  49.51747098,  76.20988662,\n",
              "        92.21811813,  73.47964121,  77.52849624,  75.47270448,\n",
              "        79.05134999,  77.45920089,  69.44522535,  48.29503519,\n",
              "        93.07181347,  60.77005319,  79.99830241,  79.66331546,\n",
              "        64.03865836,  86.51346058,  83.4922252 ,  83.98189506,\n",
              "        72.53182703,  73.74865807,  63.02271707,  74.98094467,\n",
              "       102.67223893,  70.99037796,  79.97259623,  69.26617087,\n",
              "        72.7853169 ,  56.42565435,  67.07603035,  61.25570383,\n",
              "        58.60297139,  71.96640961,  81.51430807,  82.92232472,\n",
              "        66.2493434 ,  80.59804391,  80.39400767,  68.69441873,\n",
              "        75.35052946,  74.94372562,  71.31853262,  74.37788609,\n",
              "        72.96513719,  63.1752474 ,  80.12470378,  81.33750114,\n",
              "        76.13546398,  77.25438958,  64.02507824,  77.43361267,\n",
              "        87.788617  ,  65.37696634,  70.19956117,  78.20484582,\n",
              "        96.5866792 ,  80.14435596,  85.56022947,  66.04285323,\n",
              "        53.91628228,  60.27065463,  96.8912309 ,  54.66168907,\n",
              "        75.27784452,  70.1985606 ,  61.61756287,  89.15421246,\n",
              "        80.52732484,  75.20760832,  67.80710777,  73.31438233,\n",
              "        62.17575049,  75.30491891,  87.50206308,  90.66146426,\n",
              "        62.47848814,  76.67072729,  70.34345845,  70.61407544,\n",
              "        49.86865622,  67.65484381,  77.24815287,  82.87510424,\n",
              "        69.11922471,  70.22695161,  76.12599162,  89.33041704,\n",
              "        52.70964637,  84.5685447 ,  72.68669772,  70.98700643,\n",
              "        60.9416043 ,  70.62956357,  79.83872889,  73.05836854,\n",
              "        41.51325153,  82.97300636,  66.7093567 ,  68.79465852,\n",
              "        74.44155242,  76.37409725,  69.09707841,  62.28697379,\n",
              "        82.7577649 ,  73.54221437,  80.69012838,  77.37465805,\n",
              "        81.66828477,  67.88583975,  73.44488716,  67.21887229,\n",
              "        70.01886824,  82.00010934,  65.43536746,  72.01893913])"
            ]
          },
          "metadata": {},
          "execution_count": 65
        }
      ]
    },
    {
      "cell_type": "code",
      "source": [
        "sns.displot(k,kind='kde')"
      ],
      "metadata": {
        "colab": {
          "base_uri": "https://localhost:8080/",
          "height": 523
        },
        "id": "Nb9SdXJ82--K",
        "outputId": "6927afc6-e157-462b-cf75-027879c4ffaf"
      },
      "execution_count": null,
      "outputs": [
        {
          "output_type": "execute_result",
          "data": {
            "text/plain": [
              "<seaborn.axisgrid.FacetGrid at 0x7fbbe45ff850>"
            ]
          },
          "metadata": {},
          "execution_count": 64
        },
        {
          "output_type": "display_data",
          "data": {
            "text/plain": [
              "<Figure size 500x500 with 1 Axes>"
            ],
            "image/png": "[encoded data removed]"
          },
          "metadata": {}
        }
      ]
    },
    {
      "cell_type": "code",
      "source": [
        "#universal funtions\n",
        "#vectorization\n",
        "a1=np.array([1,2,3,4,5])\n",
        "a2=np.array([20,30,30,20,40])\n",
        "a_sum=np.add(a1,a2)\n",
        "a_sum"
      ],
      "metadata": {
        "colab": {
          "base_uri": "https://localhost:8080/"
        },
        "id": "p_PDFLTw3Lgu",
        "outputId": "95397f58-a86c-4bc4-f0f2-0ca50e235ccc"
      },
      "execution_count": null,
      "outputs": [
        {
          "output_type": "execute_result",
          "data": {
            "text/plain": [
              "array([21, 32, 33, 24, 45])"
            ]
          },
          "metadata": {},
          "execution_count": 68
        }
      ]
    },
    {
      "cell_type": "code",
      "source": [
        "a_sub=np.subtract(a1,a2)\n",
        "a_sub"
      ],
      "metadata": {
        "colab": {
          "base_uri": "https://localhost:8080/"
        },
        "id": "FTOPT3MY3x1U",
        "outputId": "68cb9c7b-40a4-4f61-f5d6-59e98f1cdcb9"
      },
      "execution_count": null,
      "outputs": [
        {
          "output_type": "execute_result",
          "data": {
            "text/plain": [
              "array([-19, -28, -27, -16, -35])"
            ]
          },
          "metadata": {},
          "execution_count": 72
        }
      ]
    },
    {
      "cell_type": "code",
      "source": [
        "a_mul=np.multiply(a1,a2)\n",
        "a_mul"
      ],
      "metadata": {
        "colab": {
          "base_uri": "https://localhost:8080/"
        },
        "id": "hHyuwNfP5oR0",
        "outputId": "a788a8f8-6020-41a1-a9fb-7d7796c50311"
      },
      "execution_count": null,
      "outputs": [
        {
          "output_type": "execute_result",
          "data": {
            "text/plain": [
              "array([ 20,  60,  90,  80, 200])"
            ]
          },
          "metadata": {},
          "execution_count": 74
        }
      ]
    },
    {
      "cell_type": "code",
      "source": [
        "a_pow=np.power(a1,2)\n",
        "a_pow"
      ],
      "metadata": {
        "colab": {
          "base_uri": "https://localhost:8080/"
        },
        "id": "_MNDNT99561q",
        "outputId": "e0c65607-0b94-4ffb-e599-de2949b22df3"
      },
      "execution_count": null,
      "outputs": [
        {
          "output_type": "execute_result",
          "data": {
            "text/plain": [
              "array([ 1,  4,  9, 16, 25])"
            ]
          },
          "metadata": {},
          "execution_count": 76
        }
      ]
    },
    {
      "cell_type": "code",
      "source": [
        "np.remainder(a1,2)"
      ],
      "metadata": {
        "colab": {
          "base_uri": "https://localhost:8080/"
        },
        "id": "pYtSdgTW6CNJ",
        "outputId": "18775a8a-c59e-4aa4-b3b0-ac113cfef507"
      },
      "execution_count": null,
      "outputs": [
        {
          "output_type": "execute_result",
          "data": {
            "text/plain": [
              "array([1, 0, 1, 0, 1])"
            ]
          },
          "metadata": {},
          "execution_count": 78
        }
      ]
    },
    {
      "cell_type": "code",
      "source": [
        "np.divmod(a1,3) #dividend, reminder"
      ],
      "metadata": {
        "colab": {
          "base_uri": "https://localhost:8080/"
        },
        "id": "72ItHSq76KkW",
        "outputId": "8302ade1-08bc-4238-d444-4c441e2b59b7"
      },
      "execution_count": null,
      "outputs": [
        {
          "output_type": "execute_result",
          "data": {
            "text/plain": [
              "(array([0, 0, 1, 1, 1]), array([1, 2, 0, 1, 2]))"
            ]
          },
          "metadata": {},
          "execution_count": 79
        }
      ]
    },
    {
      "cell_type": "code",
      "source": [
        "arr=np.trunc([-2.4465])\n",
        "arr"
      ],
      "metadata": {
        "colab": {
          "base_uri": "https://localhost:8080/"
        },
        "id": "wSvbrRqQ6Wg5",
        "outputId": "0736da6a-867a-4fd2-ca6e-ad6b71044565"
      },
      "execution_count": null,
      "outputs": [
        {
          "output_type": "execute_result",
          "data": {
            "text/plain": [
              "array([-2.])"
            ]
          },
          "metadata": {},
          "execution_count": 82
        }
      ]
    },
    {
      "cell_type": "code",
      "source": [
        "np.around(3.1666,2)"
      ],
      "metadata": {
        "colab": {
          "base_uri": "https://localhost:8080/"
        },
        "id": "BihF2XVC6j7t",
        "outputId": "2941398e-4d16-46e9-a77a-d91f7797841c"
      },
      "execution_count": null,
      "outputs": [
        {
          "output_type": "execute_result",
          "data": {
            "text/plain": [
              "3.17"
            ]
          },
          "metadata": {},
          "execution_count": 83
        }
      ]
    },
    {
      "cell_type": "code",
      "source": [
        "np.floor([-3.1666,3.6667])"
      ],
      "metadata": {
        "colab": {
          "base_uri": "https://localhost:8080/"
        },
        "id": "HBr883y164g5",
        "outputId": "5aabe058-cd3c-4dc3-ddbb-ac9d9af9e3aa"
      },
      "execution_count": null,
      "outputs": [
        {
          "output_type": "execute_result",
          "data": {
            "text/plain": [
              "array([-4.,  3.])"
            ]
          },
          "metadata": {},
          "execution_count": 84
        }
      ]
    },
    {
      "cell_type": "code",
      "source": [
        "np.ceil([-3.1666,3.6667])"
      ],
      "metadata": {
        "colab": {
          "base_uri": "https://localhost:8080/"
        },
        "id": "jsmGb7Hf7T2L",
        "outputId": "f874327c-6a96-44d1-e0bb-c628e06da293"
      },
      "execution_count": null,
      "outputs": [
        {
          "output_type": "execute_result",
          "data": {
            "text/plain": [
              "array([-3.,  4.])"
            ]
          },
          "metadata": {},
          "execution_count": 85
        }
      ]
    },
    {
      "cell_type": "code",
      "source": [
        "ps1=np.array([15.5,22.1,8.7,12.3,17.6])\n",
        "ps2=np.array([14.2,23.9,7.5,10.8,18.4])\n",
        "np.add(ps1,ps2)"
      ],
      "metadata": {
        "colab": {
          "base_uri": "https://localhost:8080/"
        },
        "id": "aDA09w4s7lX8",
        "outputId": "0ce17adf-b598-4d0e-fbc5-0d8017e05117"
      },
      "execution_count": null,
      "outputs": [
        {
          "output_type": "execute_result",
          "data": {
            "text/plain": [
              "array([29.7, 46. , 16.2, 23.1, 36. ])"
            ]
          },
          "metadata": {},
          "execution_count": 104
        }
      ]
    },
    {
      "cell_type": "code",
      "source": [
        "np.subtract(ps1,ps2)"
      ],
      "metadata": {
        "colab": {
          "base_uri": "https://localhost:8080/"
        },
        "id": "QwdVO3GE8FLD",
        "outputId": "076ca0a7-ec39-48ec-d5e5-8275e168f0cd"
      },
      "execution_count": null,
      "outputs": [
        {
          "output_type": "execute_result",
          "data": {
            "text/plain": [
              "array([ 1.3, -1.8,  1.2,  1.5, -0.8])"
            ]
          },
          "metadata": {},
          "execution_count": 88
        }
      ]
    },
    {
      "cell_type": "code",
      "source": [
        "np.around(ps1,decimals=1)\n",
        "\n"
      ],
      "metadata": {
        "colab": {
          "base_uri": "https://localhost:8080/"
        },
        "id": "5kK2gotO8ZU1",
        "outputId": "25e79f34-980d-414d-8004-1f4a25162bb8"
      },
      "execution_count": null,
      "outputs": [
        {
          "output_type": "execute_result",
          "data": {
            "text/plain": [
              "array([15.5, 22.1,  8.7, 12.3, 17.6])"
            ]
          },
          "metadata": {},
          "execution_count": 91
        }
      ]
    },
    {
      "cell_type": "code",
      "source": [
        "np.around(ps2,decimals=1)"
      ],
      "metadata": {
        "colab": {
          "base_uri": "https://localhost:8080/"
        },
        "id": "BnMvDoEY8oiE",
        "outputId": "576a216b-cec3-44f4-8d89-0d0b8edd2534"
      },
      "execution_count": null,
      "outputs": [
        {
          "output_type": "execute_result",
          "data": {
            "text/plain": [
              "array([14.2, 23.9,  7.5, 10.8, 18.4])"
            ]
          },
          "metadata": {},
          "execution_count": 92
        }
      ]
    },
    {
      "cell_type": "code",
      "source": [
        "#simple log functions\n",
        "np.log2(ps1)"
      ],
      "metadata": {
        "colab": {
          "base_uri": "https://localhost:8080/"
        },
        "id": "KZx0y3Kd8yTO",
        "outputId": "c8e88be3-59bc-4c9e-8c26-ad3a9aa1380c"
      },
      "execution_count": null,
      "outputs": [
        {
          "output_type": "execute_result",
          "data": {
            "text/plain": [
              "array([3.95419631, 4.46597446, 3.1210154 , 3.62058641, 4.13750352])"
            ]
          },
          "metadata": {},
          "execution_count": 94
        }
      ]
    },
    {
      "cell_type": "code",
      "source": [
        "np.log(ps1)"
      ],
      "metadata": {
        "colab": {
          "base_uri": "https://localhost:8080/"
        },
        "id": "KaoAK7jz8_db",
        "outputId": "b22bdac7-c36b-439a-e9fd-9339ea62526a"
      },
      "execution_count": null,
      "outputs": [
        {
          "output_type": "execute_result",
          "data": {
            "text/plain": [
              "array([2.74084002, 3.09557761, 2.16332303, 2.50959926, 2.8678989 ])"
            ]
          },
          "metadata": {},
          "execution_count": 95
        }
      ]
    },
    {
      "cell_type": "code",
      "source": [
        "np.sum([ps1,ps2])"
      ],
      "metadata": {
        "colab": {
          "base_uri": "https://localhost:8080/"
        },
        "id": "oA2KpUVn9NFe",
        "outputId": "70ccbd81-568f-4d2c-f680-019015316d44"
      },
      "execution_count": null,
      "outputs": [
        {
          "output_type": "execute_result",
          "data": {
            "text/plain": [
              "151.00000000000003"
            ]
          },
          "metadata": {},
          "execution_count": 100
        }
      ]
    },
    {
      "cell_type": "code",
      "source": [
        "#ps1=np.array([1,2,3])\n",
        "np.sum([ps1,ps2],axis=1)"
      ],
      "metadata": {
        "colab": {
          "base_uri": "https://localhost:8080/"
        },
        "id": "nL0JsT1j9YcN",
        "outputId": "24810d1d-4ee0-450d-a9d3-f69c67d547eb"
      },
      "execution_count": null,
      "outputs": [
        {
          "output_type": "execute_result",
          "data": {
            "text/plain": [
              "array([76.2, 74.8])"
            ]
          },
          "metadata": {},
          "execution_count": 105
        }
      ]
    },
    {
      "cell_type": "code",
      "source": [
        "np.cumsum([ps1])"
      ],
      "metadata": {
        "colab": {
          "base_uri": "https://localhost:8080/"
        },
        "id": "O--3H98e-M_C",
        "outputId": "34c81feb-7f6d-454b-a094-8c232fe1245a"
      },
      "execution_count": null,
      "outputs": [
        {
          "output_type": "execute_result",
          "data": {
            "text/plain": [
              "array([15.5, 37.6, 46.3, 58.6, 76.2])"
            ]
          },
          "metadata": {},
          "execution_count": 106
        }
      ]
    },
    {
      "cell_type": "code",
      "source": [
        "np.diff(ps1)"
      ],
      "metadata": {
        "colab": {
          "base_uri": "https://localhost:8080/"
        },
        "id": "uWYkl2Dc-ufH",
        "outputId": "189989ef-ace9-45bc-82d8-0bbdf70fe57e"
      },
      "execution_count": null,
      "outputs": [
        {
          "output_type": "execute_result",
          "data": {
            "text/plain": [
              "array([  6.6, -13.4,   3.6,   5.3])"
            ]
          },
          "metadata": {},
          "execution_count": 108
        }
      ]
    },
    {
      "cell_type": "code",
      "source": [
        "np.diff(ps1,n=2)"
      ],
      "metadata": {
        "colab": {
          "base_uri": "https://localhost:8080/"
        },
        "id": "nPX9tlZ3-zz9",
        "outputId": "081617ad-791a-4834-e2a5-cb881f8ee309"
      },
      "execution_count": null,
      "outputs": [
        {
          "output_type": "execute_result",
          "data": {
            "text/plain": [
              "array([-20. ,  17. ,   1.7])"
            ]
          },
          "metadata": {},
          "execution_count": 109
        }
      ]
    },
    {
      "cell_type": "code",
      "source": [
        "#lcm'\n",
        "l=np.lcm(12,30)\n",
        "print(l)\n",
        "k=np.lcm(np.lcm(12,30),36)\n",
        "print(k)"
      ],
      "metadata": {
        "colab": {
          "base_uri": "https://localhost:8080/"
        },
        "id": "6645d3mu_So8",
        "outputId": "789f4423-bbdf-4402-ce31-3763fd2d9def"
      },
      "execution_count": null,
      "outputs": [
        {
          "output_type": "stream",
          "name": "stdout",
          "text": [
            "60\n",
            "180\n"
          ]
        }
      ]
    },
    {
      "cell_type": "code",
      "source": [
        "np.lcm.reduce([12,30,36])"
      ],
      "metadata": {
        "colab": {
          "base_uri": "https://localhost:8080/"
        },
        "id": "ULxHv_Iz_ZrV",
        "outputId": "9798dcbe-ee33-41b2-d485-32cc1ba81a89"
      },
      "execution_count": null,
      "outputs": [
        {
          "output_type": "execute_result",
          "data": {
            "text/plain": [
              "180"
            ]
          },
          "metadata": {},
          "execution_count": 118
        }
      ]
    },
    {
      "cell_type": "code",
      "source": [
        "np.gcd.reduce([12,30,36])"
      ],
      "metadata": {
        "colab": {
          "base_uri": "https://localhost:8080/"
        },
        "id": "hlMezw52AhjC",
        "outputId": "b2ca8858-4c2f-4d8f-9d0a-a9acf9360f7a"
      },
      "execution_count": null,
      "outputs": [
        {
          "output_type": "execute_result",
          "data": {
            "text/plain": [
              "6"
            ]
          },
          "metadata": {},
          "execution_count": 119
        }
      ]
    },
    {
      "cell_type": "code",
      "source": [
        "np.deg2rad(360)"
      ],
      "metadata": {
        "colab": {
          "base_uri": "https://localhost:8080/"
        },
        "id": "vm0HdYk8AllU",
        "outputId": "5a04f561-ca99-4119-914b-90d81c82777b"
      },
      "execution_count": null,
      "outputs": [
        {
          "output_type": "execute_result",
          "data": {
            "text/plain": [
              "6.283185307179586"
            ]
          },
          "metadata": {},
          "execution_count": 121
        }
      ]
    },
    {
      "cell_type": "code",
      "source": [],
      "metadata": {
        "id": "fS1kJ7ZnA6gg"
      },
      "execution_count": null,
      "outputs": []
    }
  ]
}