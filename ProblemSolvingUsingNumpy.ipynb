{
  "nbformat": 4,
  "nbformat_minor": 0,
  "metadata": {
    "colab": {
      "provenance": []
    },
    "kernelspec": {
      "name": "python3",
      "display_name": "Python 3"
    },
    "language_info": {
      "name": "python"
    }
  },
  "cells": [
    {
      "cell_type": "code",
      "source": [
        "'''Create a 2D NumPy array with shape 5 × 6 filled with numbers from 1 to\n",
        "30 in a row-major order. Select all elements from the fourth row. Then,\n",
        "select the element located in the first row and third column. Lastly, extract\n",
        "the first three rows and the last two columns of the array.'''\n",
        "import numpy as np\n",
        "arr=np.random.randint(1,30,(5,6))\n",
        "print(arr)"
      ],
      "metadata": {
        "colab": {
          "base_uri": "https://localhost:8080/"
        },
        "id": "beNTJcj0dHP8",
        "outputId": "1df49c74-4105-41e2-aa76-9c32f9a5addc"
      },
      "execution_count": null,
      "outputs": [
        {
          "output_type": "stream",
          "name": "stdout",
          "text": [
            "[[27  8 16 28 21 16]\n",
            " [11 20 18 12 22  2]\n",
            " [ 5 24 27  1 25 15]\n",
            " [21 23 24 16 24 12]\n",
            " [13  9  9 11 18 28]]\n"
          ]
        }
      ]
    },
    {
      "cell_type": "code",
      "source": [
        "'''Create a 2D NumPy array with shape 5 × 6 filled with numbers from 1 to\n",
        "30 in a row-major order. Select all elements from the fourth row. Then,\n",
        "select the element located in the first row and third column. Lastly, extract\n",
        "the first three rows and the last two columns of the array.'''\n",
        "arr = np.arange(1,31).reshape(5,6)\n",
        "print(arr)\n",
        "print(arr[3])\n",
        "print(arr[0,2])\n",
        "print(arr[:3,-2:])"
      ],
      "metadata": {
        "colab": {
          "base_uri": "https://localhost:8080/"
        },
        "id": "XZY0myVbdm-O",
        "outputId": "d20ec8cf-c577-4072-eb1f-a2f53813e080"
      },
      "execution_count": null,
      "outputs": [
        {
          "output_type": "stream",
          "name": "stdout",
          "text": [
            "[[ 1  2  3  4  5  6]\n",
            " [ 7  8  9 10 11 12]\n",
            " [13 14 15 16 17 18]\n",
            " [19 20 21 22 23 24]\n",
            " [25 26 27 28 29 30]]\n",
            "[19 20 21 22 23 24]\n",
            "3\n",
            "[[ 5  6]\n",
            " [11 12]\n",
            " [17 18]]\n"
          ]
        }
      ]
    },
    {
      "cell_type": "code",
      "source": [
        "'''2. Create an array with values from 50 to 89 as floating-point numbers. Then,\n",
        "reshape the array into a 4 × 10 matrix.'''\n",
        "a1=np.arange(50,89.1,dtype=float).reshape(4,10)\n",
        "print(a1)"
      ],
      "metadata": {
        "colab": {
          "base_uri": "https://localhost:8080/"
        },
        "id": "c6JtSZ59gH1g",
        "outputId": "bfbc7cd6-79ce-4216-890b-1619683afa9e"
      },
      "execution_count": null,
      "outputs": [
        {
          "output_type": "stream",
          "name": "stdout",
          "text": [
            "[[50. 51. 52. 53. 54. 55. 56. 57. 58. 59.]\n",
            " [60. 61. 62. 63. 64. 65. 66. 67. 68. 69.]\n",
            " [70. 71. 72. 73. 74. 75. 76. 77. 78. 79.]\n",
            " [80. 81. 82. 83. 84. 85. 86. 87. 88. 89.]]\n"
          ]
        }
      ]
    },
    {
      "cell_type": "code",
      "source": [
        "'''3. Given a 3D NumPy array of random integers, find the indices of all ele-\n",
        "ments that are divisible by 5. Then, use nditer to iterate over the array\n",
        "and print each element. Finally, use np.where() to identify the positions\n",
        "of all even numbers in the array and replace them with ones.'''\n",
        "arr=np.random.randint(1,100,(2,3,4))\n",
        "print(arr)\n",
        "for x in np.nditer(arr):\n",
        "    if x%5==0:\n",
        "        print(x)\n",
        "print(\"even number indices\")\n",
        "arr[np.where(arr%2==0)]=1\n",
        "print(arr)\n"
      ],
      "metadata": {
        "colab": {
          "base_uri": "https://localhost:8080/"
        },
        "id": "OZL-KLbfd_Lt",
        "outputId": "55aec7d4-46e3-4ede-af0a-97b7e6788922"
      },
      "execution_count": null,
      "outputs": [
        {
          "output_type": "stream",
          "name": "stdout",
          "text": [
            "[[[44  6 72 45]\n",
            "  [50 31 93 98]\n",
            "  [42 14 59 58]]\n",
            "\n",
            " [[41 91  6 82]\n",
            "  [31 44 80 15]\n",
            "  [ 7 84 10 47]]]\n",
            "45\n",
            "50\n",
            "80\n",
            "15\n",
            "10\n",
            "even number indices\n",
            "[[[ 1  1  1 45]\n",
            "  [ 1 31 93  1]\n",
            "  [ 1  1 59  1]]\n",
            "\n",
            " [[41 91  1  1]\n",
            "  [31  1  1 15]\n",
            "  [ 7  1  1 47]]]\n"
          ]
        }
      ]
    },
    {
      "cell_type": "code",
      "source": [
        "'''4. You are conducting a study on employees’ productivity and are tasked\n",
        "with simulating a dataset for analysis. Using NumPy Random, generate data\n",
        "for 150 employees with attributes including the number of hours worked\n",
        "per week, randomly distributed between 20 and 60 hours, and their job\n",
        "satisfaction, which is binary with 80% being satisfied. After generating the\n",
        "dataset, visualize the distribution of hours worked per week using Seaborn\n",
        "to observe any patterns or trends in the data.'''\n",
        "import seaborn as sns\n",
        "hours=np.random.randint(20,60,150)\n",
        "satisfaction=np.random.choice([0,1],150,p=[0.2,0.8])\n",
        "sns.displot(hours)\n",
        "sns.displot((hours,satisfaction))\n"
      ],
      "metadata": {
        "id": "fFYAsps3g7Lq",
        "colab": {
          "base_uri": "https://localhost:8080/",
          "height": 1000
        },
        "outputId": "9e6bd1d5-9a8f-4764-d964-557ae8b155bb"
      },
      "execution_count": null,
      "outputs": [
        {
          "output_type": "execute_result",
          "data": {
            "text/plain": [
              "<seaborn.axisgrid.FacetGrid at 0x7e81a70a7730>"
            ]
          },
          "metadata": {},
          "execution_count": 8
        },
        {
          "output_type": "display_data",
          "data": {
            "text/plain": [
              "<Figure size 500x500 with 1 Axes>"
            ],
            "image/png": "[encoded data removed]"
          },
          "metadata": {}
        },
        {
          "output_type": "display_data",
          "data": {
            "text/plain": [
              "<Figure size 558.875x500 with 1 Axes>"
            ],
            "image/png": "[encoded data removed]"
          },
          "metadata": {}
        }
      ]
    },
    {
      "cell_type": "code",
      "source": [
        "'''5. You have a dataset of sales figures from 25 products: [120, 150, 135, 160,\n",
        "170, 145, 155, 180, 165, 140, 175, 190, 155, 135, 160, 185, 145, 130, 175,\n",
        "155, 190, 150, 165, 180, 170]. Use Random Permutation to randomly\n",
        "shuffle these sales figures to simulate a new sales cycle. After shuffling,\n",
        "compute the new mean and standard deviation of the sales figures. Finally,\n",
        "visualize the distribution of the shuffled sales figures using Seaborn to\n",
        "analyze the variation in sales data.'''\n",
        "sales=np.array([120, 150, 135, 160,\n",
        "170, 145, 155, 180, 165, 140, 175, 190, 155, 135, 160, 185, 145, 130, 175,\n",
        "155, 190, 150, 165, 180, 170])\n",
        "np.random.shuffle(sales)\n",
        "print(sales)\n",
        "print(np.mean(sales))\n",
        "print(np.std(sales))\n",
        "sns.displot(sales)\n"
      ],
      "metadata": {
        "colab": {
          "base_uri": "https://localhost:8080/",
          "height": 613
        },
        "id": "Tt7twrkksaLm",
        "outputId": "f805e2c6-abdb-4dd2-fbc4-a48b8833dfdc"
      },
      "execution_count": null,
      "outputs": [
        {
          "output_type": "stream",
          "name": "stdout",
          "text": [
            "[150 135 130 155 180 170 120 170 175 145 190 175 150 160 155 155 145 160\n",
            " 180 140 135 165 165 190 185]\n",
            "159.2\n",
            "18.74459922217597\n"
          ]
        },
        {
          "output_type": "execute_result",
          "data": {
            "text/plain": [
              "<seaborn.axisgrid.FacetGrid at 0x7e81a6ee2d40>"
            ]
          },
          "metadata": {},
          "execution_count": 10
        },
        {
          "output_type": "display_data",
          "data": {
            "text/plain": [
              "<Figure size 500x500 with 1 Axes>"
            ],
            "image/png": "[encoded data removed]"
          },
          "metadata": {}
        }
      ]
    },
    {
      "cell_type": "code",
      "source": [
        "'''6. In a company, the average employee salary is $60,000 with a standard\n",
        "deviation of $8,000. Assume the salaries follow a normal distribution.\n",
        "Simulate the salaries of 1000 employees and visualize the distribution of\n",
        "the salaries using a histogram and KDE plot to observe the spread and\n",
        "central tendency of the data.'''\n",
        "salaries=np.random.normal(60000,8000,1000)\n",
        "sns.displot(salaries,kind=\"kde\")"
      ],
      "metadata": {
        "colab": {
          "base_uri": "https://localhost:8080/",
          "height": 543
        },
        "id": "uiIqYMGLuJgb",
        "outputId": "b28c4a27-7507-439a-d635-5db4f41f05fd"
      },
      "execution_count": null,
      "outputs": [
        {
          "output_type": "execute_result",
          "data": {
            "text/plain": [
              "<seaborn.axisgrid.FacetGrid at 0x7e81a702f070>"
            ]
          },
          "metadata": {},
          "execution_count": 11
        },
        {
          "output_type": "display_data",
          "data": {
            "text/plain": [
              "<Figure size 500x500 with 1 Axes>"
            ],
            "image/png": "[encoded data removed]"
          },
          "metadata": {}
        }
      ]
    },
    {
      "cell_type": "code",
      "source": [
        "'''7. A bookstore expects 150 customers in a day, with a 70% chance that a\n",
        "customer will purchase a book. The average number of customers entering\n",
        "the bookstore per minute is 3. Use the Binomial Distribution to sim-\n",
        "ulate the number of customers who actually purchase a book. Then, use\n",
        "the Poisson Distribution to simulate the number of customers arriving\n",
        "in the next 60 minutes.\n",
        "'''\n",
        "np.random.binomial(n=150,p=.7)\n",
        "customers_arrival=np.random.poisson(lam=3*60)\n",
        "customers_arrival"
      ],
      "metadata": {
        "colab": {
          "base_uri": "https://localhost:8080/"
        },
        "id": "vu9MC6rVvDgr",
        "outputId": "3bc74ae3-4ee4-4368-a4ee-7820c2d6c914"
      },
      "execution_count": null,
      "outputs": [
        {
          "output_type": "execute_result",
          "data": {
            "text/plain": [
              "169"
            ]
          },
          "metadata": {},
          "execution_count": 15
        }
      ]
    },
    {
      "cell_type": "code",
      "source": [
        "'''8. Given two NumPy arrays representing the weights of two sets of prod-\n",
        "ucts: weights set1 = [2.5, 4.3, 1.7, 3.8, 5.6] and weights set2\n",
        "= [2.2, 4.1, 1.5, 3.3, 5.4], perform element-wise addition using a\n",
        "NumPy ufunc to calculate the total weight for each pair of products.\n",
        "Then, perform element-wise subtraction to find the weight difference be-\n",
        "tween each pair. Finally, round the results of both operations to 1 decimal\n",
        "places for clarity.'''\n",
        "weights1=np.array([2.5, 4.3, 1.7, 3.8, 5.6])\n",
        "weights2=np.array([2.2, 4.1, 1.5, 3.3, 5.4])\n",
        "ele_add=np.add(weights1,weights2)\n",
        "print(\"total weight element wise : \",ele_add )\n",
        "print(\"element wise subtraction: \",np.subtract(weights1,weights2))\n",
        "print(\"element wise round off sum:\",np.around(np.add(weights1,weights2),1))\n",
        "print(\"element wise round off diff:\",np.around(np.subtract(weights1,weights2),1))"
      ],
      "metadata": {
        "colab": {
          "base_uri": "https://localhost:8080/"
        },
        "id": "Jt5q4T1rwetd",
        "outputId": "c96d0b76-45a2-47db-be44-8626c68f389e"
      },
      "execution_count": null,
      "outputs": [
        {
          "output_type": "stream",
          "name": "stdout",
          "text": [
            "total weight element wise :  [ 4.7  8.4  3.2  7.1 11. ]\n",
            "element wise subtraction:  [0.3 0.2 0.2 0.5 0.2]\n",
            "element wise round off sum: [ 4.7  8.4  3.2  7.1 11. ]\n",
            "element wise round off diff: [0.3 0.2 0.2 0.5 0.2]\n"
          ]
        }
      ]
    },
    {
      "cell_type": "code",
      "source": [
        "'''9. Given two NumPy arrays representing the quarterly profits (in millions)\n",
        "for two companies, company1 profits = [5, 8, 12, 9, 11] and company2 profits\n",
        "= [6, 7, 14, 8, 10], perform several operations. First, calculate the\n",
        "element-wise sum of the profits for each quarter using a NumPy ufunc.\n",
        "Next, compute the element-wise product of the two arrays to represent the\n",
        "combined impact of both companies’ profits. Then, find the element-wise\n",
        "differences between the profits of the two companies. Finally, calculate\n",
        "the total sum of all profits across both companies over the five quarters.'''\n",
        "company1=np.array([5, 8, 12, 9, 11])\n",
        "company2=np.array([6, 7, 14, 8, 10])\n",
        "print(np.add(company1,company2))\n",
        "print(np.multiply(company1,company2))\n",
        "print(np.subtract(company1,company2))\n",
        "print(np.sum(company1+company2))"
      ],
      "metadata": {
        "colab": {
          "base_uri": "https://localhost:8080/"
        },
        "id": "ZiACzJ5VyzEr",
        "outputId": "1d9f3f2c-ebbb-47e5-98d9-838fcf799627"
      },
      "execution_count": null,
      "outputs": [
        {
          "output_type": "stream",
          "name": "stdout",
          "text": [
            "[11 15 26 17 21]\n",
            "[ 30  56 168  72 110]\n",
            "[-1  1 -2  1  1]\n",
            "90\n"
          ]
        }
      ]
    },
    {
      "cell_type": "code",
      "source": [
        "'''10. Consider the following array of numbers representing angles (in degrees)\n",
        "and another array representing two sets of integers: angles = [15, 45,\n",
        "90, 120, 180], values1 = [32, 48, 64, 80, 96], and values2 = [16,\n",
        "32, 48, 64, 80]. First, convert the angles from degrees to radians us-\n",
        "ing a NumPy trigonometric ufunc. Then, use a trigonometric ufunc to\n",
        "compute the tangent and cotangent of the angles (in radians). After that,\n",
        "find the element-wise GCD of the two arrays of integers (values1 and\n",
        "values2), and finally, compute the element-wise LCM of the same two\n",
        "arrays.'''\n",
        "angles=np.array([15, 45, 90, 120, 180])\n",
        "values1=np.array([32, 48, 64, 80, 96])\n",
        "values2=np.array([16, 32, 48, 64, 80])\n",
        "print(np.deg2rad(angles))\n",
        "print(np.tan(np.deg2rad(angles)))\n",
        "print(np.sin(np.deg2rad(angles)))\n",
        "print(np.gcd(values1,values2))\n",
        "print(np.lcm(values1,values2))"
      ],
      "metadata": {
        "colab": {
          "base_uri": "https://localhost:8080/"
        },
        "id": "I4ZlyRAkzqx7",
        "outputId": "9e21e3c9-6489-4288-a98e-2006b3081413"
      },
      "execution_count": null,
      "outputs": [
        {
          "output_type": "stream",
          "name": "stdout",
          "text": [
            "[0.26179939 0.78539816 1.57079633 2.0943951  3.14159265]\n",
            "[ 2.67949192e-01  1.00000000e+00  1.63312394e+16 -1.73205081e+00\n",
            " -1.22464680e-16]\n",
            "[2.58819045e-01 7.07106781e-01 1.00000000e+00 8.66025404e-01\n",
            " 1.22464680e-16]\n",
            "[16 16 16 16 16]\n",
            "[ 32  96 192 320 480]\n"
          ]
        }
      ]
    },
    {
      "cell_type": "code",
      "source": [],
      "metadata": {
        "id": "D7frwdeu0Emt"
      },
      "execution_count": null,
      "outputs": []
    }
  ]
}